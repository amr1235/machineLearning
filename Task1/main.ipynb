{
  "cells": [
    {
      "cell_type": "markdown",
      "metadata": {
        "id": "jFMLsXhZJRQd"
      },
      "source": [
        "# **Task 1**\n",
        "**Classifying mnist dataset**"
      ]
    },
    {
      "cell_type": "markdown",
      "metadata": {
        "id": "MQrJUerjVOMS"
      },
      "source": [
        "**Import the  mnist dataset and extracting the features(X) and the output label(y)**"
      ]
    },
    {
      "cell_type": "code",
      "execution_count": 46,
      "metadata": {
        "id": "7O5gVgHKL_LS"
      },
      "outputs": [],
      "source": [
        "from sklearn.datasets import fetch_openml\n",
        "mnist = fetch_openml('mnist_784', version=1)\n",
        "mnist.keys()\n",
        "X, y = mnist[\"data\"], mnist[\"target\"]"
      ]
    },
    {
      "cell_type": "markdown",
      "metadata": {
        "id": "2td6kFf0XUAL"
      },
      "source": [
        "**Input Examples**"
      ]
    },
    {
      "cell_type": "code",
      "execution_count": 47,
      "metadata": {
        "colab": {
          "base_uri": "https://localhost:8080/",
          "height": 421
        },
        "id": "Hj_7FPZ3XjDC",
        "outputId": "0d9e8d69-c760-4f23-c281-2263966a6093"
      },
      "outputs": [
        {
          "data": {
            "image/png": "[encoded data removed]",
            "text/plain": [
              "<Figure size 720x504 with 5 Axes>"
            ]
          },
          "metadata": {
            "needs_background": "light"
          },
          "output_type": "display_data"
        }
      ],
      "source": [
        "from matplotlib import pyplot as plt\n",
        "import matplotlib as mplt\n",
        "fig = plt.figure(figsize=(10, 7))\n",
        "rows = 2\n",
        "columns = 3\n",
        "fig.add_subplot(rows, columns, 1)\n",
        "plt.imshow(X[1].reshape(28,28),cmap=mplt.cm.binary)\n",
        "fig.add_subplot(rows, columns, 2)\n",
        "plt.imshow(X[2].reshape(28,28),cmap=plt.cm.binary)\n",
        "fig.add_subplot(rows, columns, 3)\n",
        "plt.imshow(X[3].reshape(28,28),cmap=plt.cm.binary)\n",
        "fig.add_subplot(rows, columns, 4)\n",
        "plt.imshow(X[4].reshape(28,28),cmap=plt.cm.binary)\n",
        "fig.add_subplot(rows, columns, 5)\n",
        "plt.imshow(X[20].reshape(28,28),cmap=plt.cm.binary)\n",
        "plt.show()"
      ]
    },
    {
      "cell_type": "markdown",
      "metadata": {
        "id": "6Fp4INBoV7vq"
      },
      "source": [
        "**After getting the dataset ready , now , splitting it into 2 groups one for training and one for testing purposes**"
      ]
    },
    {
      "cell_type": "code",
      "execution_count": 50,
      "metadata": {
        "cellView": "code",
        "id": "ole6OJfTMl6x"
      },
      "outputs": [],
      "source": [
        "from sklearn.model_selection import train_test_split\n",
        "X_train, X_test, Y_train, Y_test = train_test_split(X, y, test_size=0.20, random_state=1)"
      ]
    },
    {
      "cell_type": "markdown",
      "metadata": {
        "id": "fZ9pFTUMYAFd"
      },
      "source": [
        "**In order to do binary classification we should set the output label up to be only 2 classes. first class is True, means that this image is a 3. second class is false, means that this image is not 3. If we want to do a multiclass classification , we can ignore this step and pass the training data directly to the model** "
      ]
    },
    {
      "cell_type": "code",
      "execution_count": 49,
      "metadata": {
        "colab": {
          "base_uri": "https://localhost:8080/"
        },
        "id": "NOpzXzBFRVgk",
        "outputId": "0637ceb4-ceb9-4e54-8fb0-235d07a16eda"
      },
      "outputs": [
        {
          "name": "stdout",
          "output_type": "stream",
          "text": [
            "[False False False ... False False False]\n"
          ]
        }
      ],
      "source": [
        "Y_train_3 = (Y_train == '3')\n",
        "Y_test_3 = (Y_test == '3')\n",
        "print(Y_train_3)"
      ]
    },
    {
      "cell_type": "markdown",
      "metadata": {
        "id": "-fLSZJWDaeS1"
      },
      "source": [
        "**Importing SGDClassifier model and start training**"
      ]
    },
    {
      "cell_type": "code",
      "execution_count": 51,
      "metadata": {
        "colab": {
          "base_uri": "https://localhost:8080/"
        },
        "id": "jl7H79P1NxJe",
        "outputId": "98eae867-0bb1-45e7-dc44-550b9fce6ce5"
      },
      "outputs": [
        {
          "data": {
            "text/plain": [
              "SGDClassifier(alpha=0.0001, average=False, class_weight=None,\n",
              "              early_stopping=False, epsilon=0.1, eta0=0.0, fit_intercept=True,\n",
              "              l1_ratio=0.15, learning_rate='optimal', loss='hinge',\n",
              "              max_iter=1000, n_iter_no_change=5, n_jobs=None, penalty='l2',\n",
              "              power_t=0.5, random_state=None, shuffle=True, tol=0.001,\n",
              "              validation_fraction=0.1, verbose=0, warm_start=False)"
            ]
          },
          "execution_count": 51,
          "metadata": {},
          "output_type": "execute_result"
        }
      ],
      "source": [
        "from sklearn.linear_model import SGDClassifier\n",
        "model = SGDClassifier()\n",
        "model.fit(X_train,Y_train_3)"
      ]
    },
    {
      "cell_type": "markdown",
      "metadata": {
        "id": "kzc59qQObNWB"
      },
      "source": [
        "**Get the predicted values for the test data to measure the performance and compute the confusion matrix**"
      ]
    },
    {
      "cell_type": "code",
      "execution_count": 52,
      "metadata": {
        "id": "wK5t5t2oRZjp"
      },
      "outputs": [],
      "source": [
        "predictions = model.predict(X_test)"
      ]
    },
    {
      "cell_type": "markdown",
      "metadata": {
        "id": "Ed4AeWOvbqtv"
      },
      "source": [
        "**Calculating the confusion matrix and get the true positives(TP) , false positive(FP) , true negative (TN) and false negative(FN). In addition , Calucalting the Accuracy due to the equation below**"
      ]
    },
    {
      "cell_type": "code",
      "execution_count": 53,
      "metadata": {
        "colab": {
          "base_uri": "https://localhost:8080/"
        },
        "id": "0oqy2-H7Q3IL",
        "outputId": "1b468f56-41de-4f53-9e60-20a595b7c50f"
      },
      "outputs": [
        {
          "name": "stdout",
          "output_type": "stream",
          "text": [
            "True Positive(TP)  =  1085\n",
            "False Positive(FP) =  100\n",
            "True Negative(TN)  =  12469\n",
            "False Negative(FN) =  346\n",
            "Accuracy of the binary classification = 0.968\n"
          ]
        }
      ],
      "source": [
        "from sklearn.metrics import confusion_matrix\n",
        "\n",
        "cm = confusion_matrix(Y_test_3, predictions)\n",
        "\n",
        "TN, FP, FN, TP = confusion_matrix(Y_test_3, predictions).ravel()\n",
        "\n",
        "print('True Positive(TP)  = ', TP)\n",
        "print('False Positive(FP) = ', FP)\n",
        "print('True Negative(TN)  = ', TN)\n",
        "print('False Negative(FN) = ', FN)\n",
        "\n",
        "accuracy =  (TP+TN) /(TP+FP+TN+FN)\n",
        "\n",
        "print('Accuracy of the binary classification = {:0.3f}'.format(accuracy))"
      ]
    }
  ],
  "metadata": {
    "colab": {
      "collapsed_sections": [],
      "name": "Untitled1.ipynb",
      "provenance": []
    },
    "kernelspec": {
      "display_name": "Python 3",
      "name": "python3"
    },
    "language_info": {
      "name": "python"
    }
  },
  "nbformat": 4,
  "nbformat_minor": 0
}
